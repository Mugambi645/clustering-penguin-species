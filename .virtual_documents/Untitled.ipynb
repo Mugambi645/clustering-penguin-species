





#importing packages
import pandas as pd
import matplotlib.pyplot as plt
from sklearn.decomposition import PCA
from sklearn.cluster import KMeans
from sklearn.preprocessing import StandardScaler



#Loading the dataset
data = pd.read_csv("archive/penguins.csv")


#check the first few rows
data.head()


data.info()


#check for null values
data.isna().sum()





#finding outliers
data.boxplot()
plt.show()











data.columns



data = pd.get_dummies(data, dtype=int)


data.dtypes


data.head()








scaler = StandardScaler()
X = scaler.fit_transform(data)
penguins_preprocessed = pd.DataFrame(data=X,columns=data.columns)
penguins_preprocessed.head(10)


#Perfoming PCA
%matplotlib inline
pca = PCA()
pca.fit(penguins_preprocessed)
exp_variance = pca.explained_variance_ratio_

#plotting explained variance
fig, ax = plt.subplots()
ax.bar(range(pca.n_components_), exp_variance)
ax.set_xlabel("Principal Component #")
ax.axhline(y=0.1, linestyle="--")





#Graph shows only features 0 and 1 are above 10%
#Running PCA with only these features
n_components = 2
pca = PCA(n_components=n_components, random_state=42)
penguins_PCA = pca.fit_transform(penguins_preprocessed)





#Finding optimum number of clusters

inertia = []
for k in range(1, 10):
    kmeans = KMeans(n_clusters=k, random_state=42).fit(penguins_PCA)
    inertia.append(kmeans.inertia_)

plt.plot(range(1, 10), inertia, marker = "o")
plt.xlabel("Number of clusters")
plt.ylabel("Inertia(Spread around the mean)")
plt.title('Elbow Method')
plt.show()









kmeans = KMeans(n_clusters = 4, random_state=42).fit(penguins_PCA)

plt.scatter(penguins_PCA[:,0], penguins_PCA[:,1], c=kmeans.labels_, cmap='viridis')
plt.xlabel('First Principal Component')
plt.ylabel('Second Principal Component')
plt.title('K-means Clustering')
plt.legend()
plt.show()





#Creating a dataframe for each cluster

penguins_clean['label']= kmeans.labels_
numeric_columns = ['culmen_length_mm', 'culmen_depth_mm', 'flipper_length_mm',
                  'label']
stat_penguins = penguins_clean[numeric_columns].groupby('label').mean()

stat_penguins



